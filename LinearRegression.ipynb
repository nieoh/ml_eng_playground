{
 "cells": [
  {
   "cell_type": "code",
   "execution_count": 2,
   "metadata": {},
   "outputs": [],
   "source": [
    "%matplotlib inline\n",
    "import numpy as np\n",
    "from sklearn import datasets\n",
    "import pandas as pd\n",
    "import matplotlib.pyplot as plt"
   ]
  },
  {
   "cell_type": "markdown",
   "metadata": {},
   "source": [
    "# Linear Regression\n",
    "\n",
    "We are going to implement multivariable linear regression from scratch relying only on numpy.\n",
    "\n",
    "We have a dataset with N data points each with k features and we're trying to predict a scalar value for each data point. The assumption of linear regression is that for a given data point the scalar target, y,  is a linear combination of our features, $x = [x_1, x_2, x_3, ..., x_k]$, i.e.\n",
    "\n",
    "$$  y = b_0 + b_1 * x_1 + b_2 * x_2 + ... + b_k * x_k$$\n",
    "\n",
    "If we let $x_0 = 1$ and let $x = [x_0, x_1, x_2, ..., x_k]$, and $B = [b_0, b_1, b_2, ..., b_k]$ then we have\n",
    "\n",
    "$$ y = B * x $$\n",
    "\n",
    "We use gradient descent to approximate the coefficients for our regression model. We start out by initializing the weights to 0. \n",
    "\n",
    "If we let the cost function be in relation to the mean squre error (MSE) (the particular $\\frac{1}{2N}$ is so that the derivatives for the gradient work out nicely).\n",
    "\n",
    "$$ J(B) = \\frac{1}{2N} \\sum_{i = 0}^{N} (y^i - B*x^i)^2$$\n",
    "\n",
    "Then we can calculate the avg gradient w.r.t each variable in the weight vector using the chain rule and take the mean of all the gradients across every data point. \n",
    "\n",
    "$$ \\frac{\\partial J}{\\partial B_i} = \\frac{1}{N} \\sum_{i=0}^{N} (y^i - B*x^i)(-x^i)   $$\n",
    "\n",
    "Lastly, we multiply the gradient by the learning rate and subtract from our existing weights to minimize cost (gradeint points in direction of steepest ascend). \n",
    "\n",
    "$$ B' = B - lr * \\nabla J(B)$$\n",
    "\n",
    "As seen above, there are five elements\n",
    "1. Normalize inputs   ( This is important for faster convergence and regularization )\n",
    "2. Initialize weights\n",
    "3. Prediction, cost function and gradient calculations.\n",
    "4. Update weights\n",
    "5. Train \n",
    "\n",
    "Our data has input variables called features or regressors and we're tyring to predict a scalar output, y, aka the dependent variable. "
   ]
  },
  {
   "cell_type": "markdown",
   "metadata": {},
   "source": [
    "Let's work with the diabetes dataset from sklearn"
   ]
  },
  {
   "cell_type": "code",
   "execution_count": 3,
   "metadata": {},
   "outputs": [],
   "source": [
    "# Load the diabetes dataset\n",
    "diabetes = datasets.load_diabetes()"
   ]
  },
  {
   "cell_type": "code",
   "execution_count": 4,
   "metadata": {},
   "outputs": [
    {
     "data": {
      "text/plain": [
       "(442, 10)"
      ]
     },
     "execution_count": 4,
     "metadata": {},
     "output_type": "execute_result"
    }
   ],
   "source": [
    "diabetes['data'].shape"
   ]
  },
  {
   "cell_type": "code",
   "execution_count": 5,
   "metadata": {},
   "outputs": [
    {
     "data": {
      "text/plain": [
       "(442,)"
      ]
     },
     "execution_count": 5,
     "metadata": {},
     "output_type": "execute_result"
    }
   ],
   "source": [
    "diabetes.target.shape"
   ]
  },
  {
   "cell_type": "code",
   "execution_count": 6,
   "metadata": {},
   "outputs": [],
   "source": [
    "X = diabetes['data']\n",
    "y = diabetes['target'].reshape(442, 1)"
   ]
  },
  {
   "cell_type": "markdown",
   "metadata": {},
   "source": [
    "## Normalize inputs"
   ]
  },
  {
   "cell_type": "code",
   "execution_count": 7,
   "metadata": {},
   "outputs": [],
   "source": [
    "def normalize(features):\n",
    "    # features here is a (442, 10) array, need to transpose to look at each of the \n",
    "    # 10 features individually \n",
    "    for feature in features.T:\n",
    "        m = feature.mean()\n",
    "        rng = feature.max() - feature.min()\n",
    "        feature -= m\n",
    "        feature /= rng\n",
    "        \n",
    "    return features"
   ]
  },
  {
   "cell_type": "code",
   "execution_count": 8,
   "metadata": {},
   "outputs": [],
   "source": [
    "# Example, X already seems to be normalized\n",
    "X_normal = normalize(X)"
   ]
  },
  {
   "cell_type": "markdown",
   "metadata": {},
   "source": [
    "## Initialize weights"
   ]
  },
  {
   "cell_type": "code",
   "execution_count": 9,
   "metadata": {},
   "outputs": [],
   "source": [
    "def initialize_weights(features):\n",
    "    N = features.shape[1]\n",
    "    return [[0] for _ in range(N)]"
   ]
  },
  {
   "cell_type": "code",
   "execution_count": 10,
   "metadata": {},
   "outputs": [
    {
     "data": {
      "text/plain": [
       "[[0], [0], [0], [0], [0], [0], [0], [0], [0], [0]]"
      ]
     },
     "execution_count": 10,
     "metadata": {},
     "output_type": "execute_result"
    }
   ],
   "source": [
    "weights = initialize_weights(X_normal)\n",
    "weights"
   ]
  },
  {
   "cell_type": "markdown",
   "metadata": {},
   "source": [
    "## Prediction, cost function, gradient"
   ]
  },
  {
   "cell_type": "code",
   "execution_count": 11,
   "metadata": {},
   "outputs": [],
   "source": [
    "def predict(features, weights, add_bias=False):\n",
    "    if add_bias:\n",
    "         # add bias term\n",
    "        bias = np.ones(shape=(len(features),1))\n",
    "        features = np.append(bias, features, axis=1)\n",
    "    return np.dot(features, weights)"
   ]
  },
  {
   "cell_type": "code",
   "execution_count": 12,
   "metadata": {},
   "outputs": [],
   "source": [
    "def cost(features, targets, weights):\n",
    "    # N is the number of data points\n",
    "    # predicted are the results of predictions with previous weights\n",
    "    # features is the input vars\n",
    "    # targets is the dependent var\n",
    "    \n",
    "    predicted = predict(features, weights)\n",
    "    N = features.shape[0]\n",
    "    error = (targets-predicted)**2\n",
    "    cost = error.sum() / (2*N)\n",
    "    return cost"
   ]
  },
  {
   "cell_type": "markdown",
   "metadata": {},
   "source": [
    "## Update weights"
   ]
  },
  {
   "cell_type": "code",
   "execution_count": 13,
   "metadata": {},
   "outputs": [],
   "source": [
    "def update_weights(features, targets, weights, lr=0.001):\n",
    "    N = features.shape[0]\n",
    "    predicted = predict(features, weights)\n",
    "    \n",
    "    gradient = np.dot(-features.T, (targets - predicted))/N\n",
    "    weights -= lr * gradient\n",
    "    \n",
    "    return weights"
   ]
  },
  {
   "cell_type": "markdown",
   "metadata": {},
   "source": [
    "## Train model"
   ]
  },
  {
   "cell_type": "code",
   "execution_count": 14,
   "metadata": {},
   "outputs": [],
   "source": [
    "def fit(features, targets, lr=0.001, iterations=10000, return_cost=False):\n",
    "    # normalize features\n",
    "    features = normalize(features)\n",
    "    \n",
    "    # add bias term\n",
    "    bias = np.ones(shape=(len(features),1))\n",
    "    features = np.append(bias, features, axis=1)\n",
    "    \n",
    "    # initialize weights\n",
    "    weights = initialize_weights(features)\n",
    "    \n",
    "    # keep track of stuff\n",
    "    costs = []\n",
    "    costs.append(cost(features, targets, weights))\n",
    "    \n",
    "    # update weights for iterations\n",
    "    for _ in range(iterations):\n",
    "        # update weights using gradient descent\n",
    "        weights = update_weights(features, targets, weights, lr)\n",
    "        \n",
    "        # keep track of new cost, we hope to minimize this. \n",
    "        costs.append(cost(features, targets, weights))\n",
    "    \n",
    "    if return_cost:\n",
    "        return weights, costs\n",
    "    return weights,"
   ]
  },
  {
   "cell_type": "code",
   "execution_count": 15,
   "metadata": {},
   "outputs": [
    {
     "data": {
      "text/plain": [
       "array([[ 152.12661178],\n",
       "       [  13.58441047],\n",
       "       [  -8.00327204],\n",
       "       [  55.79799047],\n",
       "       [  41.67166937],\n",
       "       [   9.96978474],\n",
       "       [   5.1155481 ],\n",
       "       [ -31.7141717 ],\n",
       "       [  32.56194659],\n",
       "       [  50.73567857],\n",
       "       [  28.77316189]])"
      ]
     },
     "execution_count": 15,
     "metadata": {},
     "output_type": "execute_result"
    }
   ],
   "source": [
    "final_weights = fit(X, y, return_cost=True)\n",
    "final_weights[0]"
   ]
  },
  {
   "cell_type": "code",
   "execution_count": 16,
   "metadata": {},
   "outputs": [],
   "source": [
    "def rmse(targets, predicted):\n",
    "    return ((targets - predicted)**2).mean()**0.5"
   ]
  },
  {
   "cell_type": "code",
   "execution_count": 17,
   "metadata": {},
   "outputs": [
    {
     "data": {
      "text/plain": [
       "59.809056427406695"
      ]
     },
     "execution_count": 17,
     "metadata": {},
     "output_type": "execute_result"
    }
   ],
   "source": [
    "rmse(y, predict(X_normal, final_weights[0], add_bias=True))"
   ]
  },
  {
   "cell_type": "code",
   "execution_count": 18,
   "metadata": {},
   "outputs": [
    {
     "data": {
      "text/plain": [
       "[<matplotlib.lines.Line2D at 0x745ded05f8>]"
      ]
     },
     "execution_count": 18,
     "metadata": {},
     "output_type": "execute_result"
    },
    {
     "data": {
      "image/png": "[encoded data removed]",
      "text/plain": [
       "<matplotlib.figure.Figure at 0x745df28eb8>"
      ]
     },
     "metadata": {
      "needs_background": "light"
     },
     "output_type": "display_data"
    }
   ],
   "source": [
    "plt.plot(final_weights[1])"
   ]
  },
  {
   "cell_type": "code",
   "execution_count": 19,
   "metadata": {},
   "outputs": [],
   "source": [
    "lr_0 = fit(X, y, lr=0.01, return_cost=True)"
   ]
  },
  {
   "cell_type": "code",
   "execution_count": 20,
   "metadata": {},
   "outputs": [
    {
     "data": {
      "text/plain": [
       "53.707958817726443"
      ]
     },
     "execution_count": 20,
     "metadata": {},
     "output_type": "execute_result"
    }
   ],
   "source": [
    "rmse(y, predict(X_normal, lr_0[0], add_bias=True))"
   ]
  },
  {
   "cell_type": "code",
   "execution_count": 21,
   "metadata": {},
   "outputs": [],
   "source": [
    "lr_1 = fit(X, y, lr=0.1, return_cost=True)"
   ]
  },
  {
   "cell_type": "code",
   "execution_count": 22,
   "metadata": {},
   "outputs": [
    {
     "data": {
      "text/plain": [
       "[<matplotlib.lines.Line2D at 0x745dd77eb8>]"
      ]
     },
     "execution_count": 22,
     "metadata": {},
     "output_type": "execute_result"
    },
    {
     "data": {
      "image/png": "[encoded data removed]",
      "text/plain": [
       "<matplotlib.figure.Figure at 0x745df28898>"
      ]
     },
     "metadata": {
      "needs_background": "light"
     },
     "output_type": "display_data"
    }
   ],
   "source": [
    "plt.plot(lr_1[1])"
   ]
  },
  {
   "cell_type": "code",
   "execution_count": 23,
   "metadata": {},
   "outputs": [
    {
     "data": {
      "text/plain": [
       "53.599367825302203"
      ]
     },
     "execution_count": 23,
     "metadata": {},
     "output_type": "execute_result"
    }
   ],
   "source": [
    "rmse(y, predict(X_normal, lr_1[0], add_bias=True))"
   ]
  },
  {
   "cell_type": "code",
   "execution_count": 24,
   "metadata": {},
   "outputs": [
    {
     "data": {
      "text/plain": [
       "[<matplotlib.lines.Line2D at 0x745dcebc50>]"
      ]
     },
     "execution_count": 24,
     "metadata": {},
     "output_type": "execute_result"
    },
    {
     "data": {
      "image/png": "[encoded data removed]",
      "text/plain": [
       "<matplotlib.figure.Figure at 0x745dd1e438>"
      ]
     },
     "metadata": {
      "needs_background": "light"
     },
     "output_type": "display_data"
    }
   ],
   "source": [
    "plt.plot(lr_0[1])"
   ]
  },
  {
   "cell_type": "code",
   "execution_count": 25,
   "metadata": {},
   "outputs": [
    {
     "data": {
      "text/plain": [
       "77.005745869450436"
      ]
     },
     "execution_count": 25,
     "metadata": {},
     "output_type": "execute_result"
    }
   ],
   "source": [
    "y.std()"
   ]
  },
  {
   "cell_type": "markdown",
   "metadata": {},
   "source": [
    "The standard deviation of y is about 77. Meaning if our model were to predict the baseline of the mean every time, our model would have a rmse of 77. Our linear regression model has a rmse of ~54 which is better than the baseline. "
   ]
  },
  {
   "cell_type": "code",
   "execution_count": 26,
   "metadata": {},
   "outputs": [
    {
     "data": {
      "text/plain": [
       "0.51552310353125241"
      ]
     },
     "execution_count": 26,
     "metadata": {},
     "output_type": "execute_result"
    }
   ],
   "source": [
    "# Calculate R^2\n",
    "SS_r = ((y-predict(X_normal, lr_1[0], add_bias=True))**2).sum()\n",
    "SS_t = ((y-y.mean())**2).sum()\n",
    "R_sq = 1-(SS_r/SS_t)\n",
    "R_sq"
   ]
  },
  {
   "cell_type": "markdown",
   "metadata": {},
   "source": [
    "## Do it using sklearn and compare"
   ]
  },
  {
   "cell_type": "code",
   "execution_count": 27,
   "metadata": {},
   "outputs": [],
   "source": [
    "from sklearn import linear_model\n",
    "from sklearn.metrics import mean_squared_error, r2_score"
   ]
  },
  {
   "cell_type": "code",
   "execution_count": 28,
   "metadata": {},
   "outputs": [],
   "source": [
    "# Create linear regression object\n",
    "regr = linear_model.LinearRegression()\n",
    "\n",
    "# Train the model using the training sets\n",
    "regr.fit(X, y)\n",
    "\n",
    "# Make predictions using the testing set\n",
    "diabetes_y_pred = regr.predict(X)\n"
   ]
  },
  {
   "cell_type": "code",
   "execution_count": 34,
   "metadata": {},
   "outputs": [
    {
     "name": "stdout",
     "output_type": "stream",
     "text": [
      "linear regression coefficients:  [[  -2.18218161  -22.85997654  135.59008288   79.29523507 -222.36164453\n",
      "   149.88939468   28.64473227   46.32511398  195.10450922   18.48736432]]\n",
      "Root mean squared error: 53.48\n",
      "Variance score: 0.52\n"
     ]
    }
   ],
   "source": [
    "print(\"linear regression coefficients: \", regr.coef_)\n",
    "print(\"Root mean squared error: %.2f\"\n",
    "      % mean_squared_error(y, diabetes_y_pred)**0.5)\n",
    "# Explained variance score: 1 is perfect prediction\n",
    "print('Variance score: %.2f' % r2_score(y, diabetes_y_pred))\n"
   ]
  },
  {
   "cell_type": "code",
   "execution_count": 40,
   "metadata": {},
   "outputs": [
    {
     "data": {
      "text/plain": [
       "{0: 152.13348416289455,\n",
       " 1: -0.94632793639386104,\n",
       " 2: -23.587181056111305,\n",
       " 3: 131.5893128348965,\n",
       " 4: 80.807442795613909,\n",
       " 5: -21.448143048792797,\n",
       " 6: -29.775413359571505,\n",
       " 7: -59.387354556568461,\n",
       " 8: 34.78031546765898,\n",
       " 9: 112.99428855334024,\n",
       " 10: 27.135822698547234}"
      ]
     },
     "execution_count": 40,
     "metadata": {},
     "output_type": "execute_result"
    }
   ],
   "source": [
    "mine = {i: lr_0[0][i][0] for i in range(11)}\n",
    "mine"
   ]
  },
  {
   "cell_type": "code",
   "execution_count": 47,
   "metadata": {},
   "outputs": [
    {
     "data": {
      "text/plain": [
       "{0: 152.13348416289594,\n",
       " 1: -2.1821816130705156,\n",
       " 2: -22.859976540025357,\n",
       " 3: 135.59008288203151,\n",
       " 4: 79.295235074242939,\n",
       " 5: -222.36164452848283,\n",
       " 6: 149.88939468215818,\n",
       " 7: 28.644732269445171,\n",
       " 8: 46.325113980871073,\n",
       " 9: 195.10450921686058,\n",
       " 10: 18.487364318854976}"
      ]
     },
     "execution_count": 47,
     "metadata": {},
     "output_type": "execute_result"
    }
   ],
   "source": [
    "sklearns = {i: np.append(regr.intercept_, regr.coef_)[i] for i in range(11)}\n",
    "sklearns"
   ]
  },
  {
   "cell_type": "code",
   "execution_count": 56,
   "metadata": {},
   "outputs": [
    {
     "data": {
      "text/plain": [
       "[5, 2, 1, 10, 7, 8, 4, 3, 6, 0, 9]"
      ]
     },
     "execution_count": 56,
     "metadata": {},
     "output_type": "execute_result"
    }
   ],
   "source": [
    "sorted(sklearns, key=sklearns.get)"
   ]
  },
  {
   "cell_type": "code",
   "execution_count": 57,
   "metadata": {},
   "outputs": [
    {
     "data": {
      "text/plain": [
       "[7, 6, 2, 5, 1, 10, 8, 4, 9, 3, 0]"
      ]
     },
     "execution_count": 57,
     "metadata": {},
     "output_type": "execute_result"
    }
   ],
   "source": [
    "sorted(mine, key=mine.get)"
   ]
  },
  {
   "cell_type": "code",
   "execution_count": null,
   "metadata": {},
   "outputs": [],
   "source": []
  }
 ],
 "metadata": {
  "kernelspec": {
   "display_name": "Python 3",
   "language": "python",
   "name": "python3"
  },
  "language_info": {
   "codemirror_mode": {
    "name": "ipython",
    "version": 3
   },
   "file_extension": ".py",
   "mimetype": "text/x-python",
   "name": "python",
   "nbconvert_exporter": "python",
   "pygments_lexer": "ipython3",
   "version": "3.5.3"
  }
 },
 "nbformat": 4,
 "nbformat_minor": 4
}
