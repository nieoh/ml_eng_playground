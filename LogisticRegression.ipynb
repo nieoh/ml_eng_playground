{
 "cells": [
  {
   "cell_type": "markdown",
   "metadata": {},
   "source": [
    "# Logistic Regression - Binary Classification"
   ]
  },
  {
   "cell_type": "markdown",
   "metadata": {},
   "source": [
    "## Base\n",
    "Let us implement logistic regression from scratch. Logistic regression is commonly used as a binary classification model. It is similar to linear regression in that we take a linear combination of the input features. But then we feed the output through a logistic function, particularly sigmoid $\\frac{1}{1+e^{-z}}$, so that the actual output is bounded. For classification, we can take the bounded output between 0 and 1 and for example, classify it as class 1 if below the threshold 0.5, otherwise class 2.  \n",
    "\n",
    "More specifically, let $X$ be a dataset with $N$ observations each with $k$ features. For a feature $x = [x_1, x_2, ..., x_k]$ there is a corresponding scalar target $y$ which could take on a value of $0$ or $1$. Then similar to linear regression, first take a linear combination of the features\n",
    "\n",
    "$$z = B_0*x_0 + B_1*x_1 + ... + B_k*x_k = B^T \\cdot x$$\n",
    "\n",
    "where $x_0 = 1$ per notation. \n",
    "\n",
    "Then, we apply the sigmoid function to $z$ to get\n",
    "\n",
    "$$h(B) = \\frac{1}{1+e^{-z}} = \\frac{1}{1+e^{-B_0*x_0 + B_1*x_1 + ... + B_k*x_k}}$$\n",
    "\n",
    "We want to find $B = [B_0, B_1, ..., B_k]$ that best approximates $y$. \n",
    "\n",
    "## Cost function\n",
    "Recall the likelihood is the probability of the data given the weights on the features, $B$. So we want to estimate the parameters by maximize the likelihood function. In this case\n",
    "\n",
    "$$ p(Y| X, B) = \\prod_{i=1}^{N} p(y_i | x_i, B)$$\n",
    "\n",
    "Now we define a loss function so that minimizing it will maximize the likelihood function. Let our loss function be the negative log of the likelihood function. Since log is a monotonically increasing function, find the minimum of the negative log likelihood function will be the same as finding the maximum of the likelihood function. So we define our loss function to be\n",
    "\n",
    "$$ J(B) = -\\sum_{i=1}^{N} log(p(y_i | x_i, B))$$\n",
    "\n",
    "What does this mean in the case of binary classification? Let $p(y)$ be the probability that $y$ is of class 1, WLOG when $y = 1$ Then $1-p(y)$ is the probability that $y$ is of class 2, i.e. $y = 0$. Then we can write the probability explicitly for both classes in one line as \n",
    "\n",
    "$$log(p(y_i | x_i, B)) = y_i*log(p(y_i)) + (1-y_i)*log(1-p(y_i))$$\n",
    "\n",
    "Now, $p(y) = h$. Thus our loss function is\n",
    "\n",
    "$$ J(B) = -\\sum_{i=1}^{N} y_i*log(h(B)) + (1-y_i)*log(1-h(B))\\\\ \n",
    " = \\sum_{i=1}^{N} -y_i * (log(h) - log(1-h)) - log(1-h)\\\\\n",
    " = \\sum_{i=1}^{N} -y_i * log(\\frac{h}{1-h}) - log(1-h)$$ \n",
    " \n",
    "Now,\n",
    "\n",
    "$$ log(1-h) = log(\\frac{1}{1+e^{-z}}) = -log(1+e^z)$$\n",
    "and\n",
    "\n",
    "$$ \\frac{h}{1-h} = \\frac{1}{1+e^{-z}} * \\frac{1 + e^{-z}}{e^{-z}} = e^z$$\n",
    "\n",
    "Therefore we have\n",
    "\n",
    "$$ J(B) = \\sum_{i=1}^{N} -y_i * z + log(1+e^z) \\\\\n",
    "= \\sum_{i=1}^{N} -y_i B^T x_i + log(1+e^{B^T x_i})$$\n",
    "\n",
    "## Gradient Descent\n",
    "\n",
    "Now that we have a loss function we'd like to minimize, we do this using gradient descent as we did with linear regression. \n",
    "\n",
    "Start by initializing the weights, $B$, to something random, say 0. Then we calculate the gradient of our loss function given this $B$ and take the average over all data points. Since the gradient points in the direction of the steepest ascend, we then multiply it by the learning rate and update the weights by subtracting this value from it. \n",
    "\n",
    "The gradient is \n",
    "\n",
    "$$\\frac{\\partial J}{\\partial B} = \\sum_{i=1}^{N} -y_i x_i + \\frac{e^{B^T x_i} x_i}{1+e^{B^T x_i}}\\\\\n",
    "= - \\sum_{i=1}^{N} x_i (y_i - \\frac{1}{1+e^{-B^T x_i}})\\\\\n",
    "= - \\sum_{i=1}^{N} x_i (y_i - \\frac{1}{1+e^{-z}})\\\\\n",
    "= - \\sum_{i=1}^{N} x_i (y_i - h(B))$$\n",
    "\n",
    "Finally we update the weights \n",
    "\n",
    "$$B = B - lr *  (- \\frac{1}{N}\\sum_{i=1}^{N} x_i (y_i - h(B)))$$\n",
    "\n",
    "Great, so let's write some code. We break it down into the following steps:\n",
    "1. Normalize data\n",
    "2. Initialize weights\n",
    "3. Predict, cost and gradient functions\n",
    "4. Update weights\n",
    "5. Train \n",
    "6. Compare to sklearn "
   ]
  },
  {
   "cell_type": "code",
   "execution_count": 1,
   "metadata": {},
   "outputs": [],
   "source": [
    "%matplotlib inline\n",
    "import numpy as np\n",
    "from sklearn import datasets\n",
    "import pandas as pd\n",
    "import matplotlib.pyplot as plt"
   ]
  },
  {
   "cell_type": "code",
   "execution_count": 3,
   "metadata": {},
   "outputs": [],
   "source": [
    "# Load the breasts cancer dataset\n",
    "breast_cancer = datasets.load_breast_cancer()"
   ]
  },
  {
   "cell_type": "code",
   "execution_count": 7,
   "metadata": {},
   "outputs": [
    {
     "name": "stdout",
     "output_type": "stream",
     "text": [
      "(569,)\n",
      "(569, 30)\n"
     ]
    }
   ],
   "source": [
    "print(breast_cancer.target.shape)\n",
    "print(breast_cancer.data.shape)"
   ]
  },
  {
   "cell_type": "code",
   "execution_count": 8,
   "metadata": {},
   "outputs": [],
   "source": [
    "X = breast_cancer['data']\n",
    "y = breast_cancer['target'].reshape(569, 1)"
   ]
  },
  {
   "cell_type": "markdown",
   "metadata": {},
   "source": [
    "## Normalize Data"
   ]
  },
  {
   "cell_type": "code",
   "execution_count": 12,
   "metadata": {},
   "outputs": [],
   "source": [
    "def normalize(features):\n",
    "    # features here is a (442, 10) array, need to transpose to look at each of the \n",
    "    # 30 features individually \n",
    "    for feature in features.T:\n",
    "        m = feature.mean()\n",
    "        rng = feature.max() - feature.min()\n",
    "        feature -= m\n",
    "        feature /= rng\n",
    "        \n",
    "    return features"
   ]
  },
  {
   "cell_type": "code",
   "execution_count": 13,
   "metadata": {},
   "outputs": [],
   "source": [
    "X_normal = normalize(X)"
   ]
  },
  {
   "cell_type": "code",
   "execution_count": 15,
   "metadata": {},
   "outputs": [
    {
     "data": {
      "text/plain": [
       "<matplotlib.collections.PathCollection at 0x7861aef588>"
      ]
     },
     "execution_count": 15,
     "metadata": {},
     "output_type": "execute_result"
    },
    {
     "data": {
      "image/png": "[encoded data removed]",
      "text/plain": [
       "<matplotlib.figure.Figure at 0x7861c04a58>"
      ]
     },
     "metadata": {
      "needs_background": "light"
     },
     "output_type": "display_data"
    }
   ],
   "source": [
    "plt.scatter(X_normal[:, 0], y)"
   ]
  },
  {
   "cell_type": "code",
   "execution_count": 22,
   "metadata": {},
   "outputs": [],
   "source": [
    "# To make things easier, append 1 as feature x_0\n",
    "bias = np.ones(shape=(len(X_normal),1))\n",
    "features = np.append(bias, X_normal, axis=1)"
   ]
  },
  {
   "cell_type": "markdown",
   "metadata": {},
   "source": [
    "## Initialize Weights"
   ]
  },
  {
   "cell_type": "code",
   "execution_count": 20,
   "metadata": {},
   "outputs": [],
   "source": [
    "def initialize_weights(features):\n",
    "    N = features.shape[1]\n",
    "    return [[0] for _ in range(N)]"
   ]
  },
  {
   "cell_type": "code",
   "execution_count": 25,
   "metadata": {},
   "outputs": [],
   "source": [
    "weights = initialize_weights(features)"
   ]
  },
  {
   "cell_type": "markdown",
   "metadata": {},
   "source": [
    "## Predict, loss, gradient"
   ]
  },
  {
   "cell_type": "code",
   "execution_count": 77,
   "metadata": {},
   "outputs": [],
   "source": [
    "def predict_prob(features, weights):\n",
    "    z = np.dot(features, weights)\n",
    "    h = 1 / (1+ np.exp(-z))\n",
    "    return h"
   ]
  },
  {
   "cell_type": "code",
   "execution_count": 78,
   "metadata": {},
   "outputs": [],
   "source": [
    "def predict(features, weights, threshold=0.5):\n",
    "    return predict_prob(features, weights) >= threshold"
   ]
  },
  {
   "cell_type": "code",
   "execution_count": 79,
   "metadata": {},
   "outputs": [
    {
     "data": {
      "text/plain": [
       "array([[ True],\n",
       "       [ True],\n",
       "       [ True],\n",
       "       [ True],\n",
       "       [ True]], dtype=bool)"
      ]
     },
     "execution_count": 79,
     "metadata": {},
     "output_type": "execute_result"
    }
   ],
   "source": [
    "# This makes sense, if the weights are 0, then e^z = e^0 = 1 thus h = 1/2\n",
    "predict(features, weights)[:5]"
   ]
  },
  {
   "cell_type": "code",
   "execution_count": 80,
   "metadata": {},
   "outputs": [
    {
     "data": {
      "text/plain": [
       "array([[ 0.5],\n",
       "       [ 0.5],\n",
       "       [ 0.5],\n",
       "       [ 0.5],\n",
       "       [ 0.5]])"
      ]
     },
     "execution_count": 80,
     "metadata": {},
     "output_type": "execute_result"
    }
   ],
   "source": [
    "predict_prob(features, weights)[:5]"
   ]
  },
  {
   "cell_type": "code",
   "execution_count": 81,
   "metadata": {},
   "outputs": [],
   "source": [
    "def loss_func(features, targets, weights):\n",
    "    predicted_prob = predict_prob(features, weights)\n",
    "    loss = ((-targets * np.log(predicted_prob) - (1-targets)*np.log(1-predicted_prob))).mean()\n",
    "    return loss"
   ]
  },
  {
   "cell_type": "code",
   "execution_count": 82,
   "metadata": {},
   "outputs": [
    {
     "data": {
      "text/plain": [
       "0.69314718055994529"
      ]
     },
     "execution_count": 82,
     "metadata": {},
     "output_type": "execute_result"
    }
   ],
   "source": [
    "loss_func(features, y, weights)"
   ]
  },
  {
   "cell_type": "markdown",
   "metadata": {},
   "source": [
    "## Update weights"
   ]
  },
  {
   "cell_type": "code",
   "execution_count": 83,
   "metadata": {},
   "outputs": [],
   "source": [
    "def update_weights(features, targets, weights, lr=0.01):\n",
    "    prob = predict_prob(features, weights)\n",
    "    N = features.shape[0]\n",
    "    gradient = np.dot(-features.T, (targets-prob))/N\n",
    "    weights -= lr * gradient\n",
    "    return weights"
   ]
  },
  {
   "cell_type": "code",
   "execution_count": 84,
   "metadata": {},
   "outputs": [
    {
     "data": {
      "text/plain": [
       "array([[  1.27416520e-03],\n",
       "       [ -5.88180473e-04],\n",
       "       [ -2.91723560e-04],\n",
       "       [ -6.02383474e-04],\n",
       "       [ -5.11245082e-04],\n",
       "       [ -2.19917739e-04],\n",
       "       [ -4.66807019e-04],\n",
       "       [ -6.28323464e-04],\n",
       "       [ -7.23516640e-04],\n",
       "       [ -2.21049250e-04],\n",
       "       [  9.22163748e-06],\n",
       "       [ -2.75117437e-04],\n",
       "       [  4.89016181e-06],\n",
       "       [ -2.55938503e-04],\n",
       "       [ -2.25021545e-04],\n",
       "       [  3.30425540e-05],\n",
       "       [ -1.90366749e-04],\n",
       "       [ -9.34308877e-05],\n",
       "       [ -2.30391580e-04],\n",
       "       [  3.66448688e-06],\n",
       "       [ -3.44329109e-05],\n",
       "       [ -6.44912912e-04],\n",
       "       [ -3.61559333e-04],\n",
       "       [ -6.32924633e-04],\n",
       "       [ -4.96042225e-04],\n",
       "       [ -3.06979504e-04],\n",
       "       [ -4.35799731e-04],\n",
       "       [ -5.30952536e-04],\n",
       "       [ -8.65918425e-04],\n",
       "       [ -2.45248161e-04],\n",
       "       [ -1.85341967e-04]])"
      ]
     },
     "execution_count": 84,
     "metadata": {},
     "output_type": "execute_result"
    }
   ],
   "source": [
    "update_weights(features, y, weights)"
   ]
  },
  {
   "cell_type": "markdown",
   "metadata": {},
   "source": [
    "## Train"
   ]
  },
  {
   "cell_type": "code",
   "execution_count": 87,
   "metadata": {},
   "outputs": [],
   "source": [
    "def logreg_fit(features, targets, lr=0.01, iterations=1000, return_loss=True):\n",
    "    # assume we have normalized features\n",
    "    \n",
    "    # initialize weights\n",
    "    weights = initialize_weights(features)\n",
    "    \n",
    "    # keep track of loss\n",
    "    loss = []\n",
    "    loss.append(loss_func(features, targets, weights))\n",
    "    \n",
    "    for i in range(iterations):\n",
    "        weights = update_weights(features, targets, weights, lr)\n",
    "        loss.append(loss_func(features, targets, weights))\n",
    "    if not return_loss:\n",
    "        return weights, _\n",
    "    return weights, loss"
   ]
  },
  {
   "cell_type": "code",
   "execution_count": 89,
   "metadata": {},
   "outputs": [],
   "source": [
    "final = logreg_fit(features, y)"
   ]
  },
  {
   "cell_type": "markdown",
   "metadata": {},
   "source": [
    "## Evaluation"
   ]
  },
  {
   "cell_type": "code",
   "execution_count": 106,
   "metadata": {},
   "outputs": [],
   "source": [
    "def accuracy(features, targets, weights):\n",
    "    preds = predict(features, weights)\n",
    "    # accuracy\n",
    "    return (preds == targets).mean()"
   ]
  },
  {
   "cell_type": "code",
   "execution_count": 107,
   "metadata": {},
   "outputs": [
    {
     "data": {
      "text/plain": [
       "0.90509666080843587"
      ]
     },
     "execution_count": 107,
     "metadata": {},
     "output_type": "execute_result"
    }
   ],
   "source": [
    "accuracy(features, y, final[0])"
   ]
  },
  {
   "cell_type": "code",
   "execution_count": 99,
   "metadata": {},
   "outputs": [
    {
     "data": {
      "text/plain": [
       "[<matplotlib.lines.Line2D at 0x78618fc240>]"
      ]
     },
     "execution_count": 99,
     "metadata": {},
     "output_type": "execute_result"
    },
    {
     "data": {
      "image/png": "[encoded data removed]",
      "text/plain": [
       "<matplotlib.figure.Figure at 0x78619090b8>"
      ]
     },
     "metadata": {
      "needs_background": "light"
     },
     "output_type": "display_data"
    }
   ],
   "source": [
    "plt.plot(final[1])"
   ]
  },
  {
   "cell_type": "code",
   "execution_count": 101,
   "metadata": {},
   "outputs": [],
   "source": [
    "more_it = logreg_fit(features, y, iterations=10000)"
   ]
  },
  {
   "cell_type": "code",
   "execution_count": 103,
   "metadata": {},
   "outputs": [
    {
     "data": {
      "text/plain": [
       "[<matplotlib.lines.Line2D at 0x78617f97f0>]"
      ]
     },
     "execution_count": 103,
     "metadata": {},
     "output_type": "execute_result"
    },
    {
     "data": {
      "image/png": "[encoded data removed]",
      "text/plain": [
       "<matplotlib.figure.Figure at 0x7861839e80>"
      ]
     },
     "metadata": {
      "needs_background": "light"
     },
     "output_type": "display_data"
    }
   ],
   "source": [
    "plt.plot(more_it[1])"
   ]
  },
  {
   "cell_type": "code",
   "execution_count": 108,
   "metadata": {},
   "outputs": [
    {
     "data": {
      "text/plain": [
       "0.95254833040421794"
      ]
     },
     "execution_count": 108,
     "metadata": {},
     "output_type": "execute_result"
    }
   ],
   "source": [
    "accuracy(features, y, more_it[0])"
   ]
  },
  {
   "cell_type": "markdown",
   "metadata": {},
   "source": [
    "## From sklearn"
   ]
  },
  {
   "cell_type": "code",
   "execution_count": 109,
   "metadata": {},
   "outputs": [],
   "source": [
    "from sklearn.linear_model import LogisticRegression"
   ]
  },
  {
   "cell_type": "code",
   "execution_count": 112,
   "metadata": {},
   "outputs": [
    {
     "name": "stderr",
     "output_type": "stream",
     "text": [
      "/home/ohstephanies/.local/lib/python3.5/site-packages/sklearn/linear_model/logistic.py:432: FutureWarning: Default solver will be changed to 'lbfgs' in 0.22. Specify a solver to silence this warning.\n",
      "  FutureWarning)\n",
      "/home/ohstephanies/.local/lib/python3.5/site-packages/sklearn/utils/validation.py:724: DataConversionWarning: A column-vector y was passed when a 1d array was expected. Please change the shape of y to (n_samples, ), for example using ravel().\n",
      "  y = column_or_1d(y, warn=True)\n"
     ]
    }
   ],
   "source": [
    "logreg = LogisticRegression()\n",
    "\n",
    "logreg.fit(features, y)\n",
    "\n",
    "breast_cancer_predict = logreg.predict(features)"
   ]
  },
  {
   "cell_type": "code",
   "execution_count": 115,
   "metadata": {},
   "outputs": [
    {
     "name": "stdout",
     "output_type": "stream",
     "text": [
      "logistic regression coefficients:  [[ 0.33348792 -1.89323684 -1.71455598 -1.85748881 -1.60561734 -0.65134699\n",
      "  -0.33372615 -1.43868774 -2.14236338 -0.54924845  0.97520857 -1.28876322\n",
      "  -0.04110554 -0.9934522  -0.85346139 -0.06285718  0.65945602  0.27284232\n",
      "  -0.26420715  0.22434364  0.63911482 -2.43439459 -2.35644136 -2.22510782\n",
      "  -1.76431033 -1.57714803 -0.77639265 -1.38118315 -2.72594484 -1.33593214\n",
      "  -0.33594566]]\n",
      "sklearn accuracy: 0.97\n"
     ]
    }
   ],
   "source": [
    "print(\"logistic regression coefficients: \", logreg.coef_)\n",
    "print(\"sklearn accuracy: %.2f\" %logreg.score(features, y))"
   ]
  },
  {
   "cell_type": "code",
   "execution_count": 122,
   "metadata": {},
   "outputs": [
    {
     "data": {
      "text/plain": [
       "(31, 1)"
      ]
     },
     "execution_count": 122,
     "metadata": {},
     "output_type": "execute_result"
    }
   ],
   "source": [
    "more_it[0]"
   ]
  },
  {
   "cell_type": "code",
   "execution_count": 118,
   "metadata": {},
   "outputs": [],
   "source": [
    "## compare coefficients"
   ]
  },
  {
   "cell_type": "code",
   "execution_count": 123,
   "metadata": {},
   "outputs": [
    {
     "data": {
      "text/plain": [
       "{0: 0.67338823707735718,\n",
       " 1: -1.5155732357910663,\n",
       " 2: -1.0016099530670677,\n",
       " 3: -1.5192780836764801,\n",
       " 4: -1.2817821157471727,\n",
       " 5: -0.46552300724346335,\n",
       " 6: -0.77510914091979022,\n",
       " 7: -1.257848935316547,\n",
       " 8: -1.6872069431740235,\n",
       " 9: -0.43685979968222405,\n",
       " 10: 0.44097702172192116,\n",
       " 11: -0.7019080453931551,\n",
       " 12: 0.011855134724343592,\n",
       " 13: -0.60356668671721858,\n",
       " 14: -0.5382878656662804,\n",
       " 15: 0.10450297982479176,\n",
       " 16: -0.01631750307394603,\n",
       " 17: 0.024941427430147777,\n",
       " 18: -0.33231185680681968,\n",
       " 19: 0.12181033999379433,\n",
       " 20: 0.22266809089184797,\n",
       " 21: -1.7293129677088608,\n",
       " 22: -1.3063285168394561,\n",
       " 23: -1.6452931684563283,\n",
       " 24: -1.2781142843119448,\n",
       " 25: -0.89885011457039521,\n",
       " 26: -0.88235615449187532,\n",
       " 27: -1.1332934344494499,\n",
       " 28: -2.1209986169017565,\n",
       " 29: -0.73263102144529191,\n",
       " 30: -0.30936125245447799}"
      ]
     },
     "execution_count": 123,
     "metadata": {},
     "output_type": "execute_result"
    }
   ],
   "source": [
    "mine = {i: more_it[0][i][0] for i in range(31)}\n",
    "mine"
   ]
  },
  {
   "cell_type": "code",
   "execution_count": 134,
   "metadata": {},
   "outputs": [
    {
     "data": {
      "text/plain": [
       "{0: 0.33348791727830268,\n",
       " 1: -1.893236835654867,\n",
       " 2: -1.7145559848091145,\n",
       " 3: -1.8574888052546197,\n",
       " 4: -1.6056173370983078,\n",
       " 5: -0.65134698849490469,\n",
       " 6: -0.33372614879751517,\n",
       " 7: -1.4386877413488137,\n",
       " 8: -2.1423633808416778,\n",
       " 9: -0.54924845015359625,\n",
       " 10: 0.9752085657117523,\n",
       " 11: -1.2887632231843476,\n",
       " 12: -0.041105537822651736,\n",
       " 13: -0.99345219578221755,\n",
       " 14: -0.85346139010265321,\n",
       " 15: -0.062857177890708174,\n",
       " 16: 0.65945602133699699,\n",
       " 17: 0.27284231578295109,\n",
       " 18: -0.26420715488927532,\n",
       " 19: 0.22434364002740106,\n",
       " 20: 0.63911482364309469,\n",
       " 21: -2.4343945892055365,\n",
       " 22: -2.3564413569694844,\n",
       " 23: -2.2251078185098798,\n",
       " 24: -1.7643103269804428,\n",
       " 25: -1.5771480312742374,\n",
       " 26: -0.77639265014247127,\n",
       " 27: -1.3811831549855618,\n",
       " 28: -2.7259448439522105,\n",
       " 29: -1.3359321437069498,\n",
       " 30: -0.33594566373707613}"
      ]
     },
     "execution_count": 134,
     "metadata": {},
     "output_type": "execute_result"
    }
   ],
   "source": [
    "sklearns = {i: (logreg.coef_)[0][i] for i in range(31)}\n",
    "sklearns"
   ]
  },
  {
   "cell_type": "code",
   "execution_count": 137,
   "metadata": {},
   "outputs": [
    {
     "data": {
      "text/plain": [
       "[<matplotlib.lines.Line2D at 0x7860ff18d0>]"
      ]
     },
     "execution_count": 137,
     "metadata": {},
     "output_type": "execute_result"
    },
    {
     "data": {
      "image/png": "[encoded data removed]",
      "text/plain": [
       "<matplotlib.figure.Figure at 0x7860ff1908>"
      ]
     },
     "metadata": {
      "needs_background": "light"
     },
     "output_type": "display_data"
    }
   ],
   "source": [
    "plt.plot(logreg.coef_[0])\n",
    "plt.plot(more_it[0])"
   ]
  }
 ],
 "metadata": {
  "kernelspec": {
   "display_name": "Python 3",
   "language": "python",
   "name": "python3"
  },
  "language_info": {
   "codemirror_mode": {
    "name": "ipython",
    "version": 3
   },
   "file_extension": ".py",
   "mimetype": "text/x-python",
   "name": "python",
   "nbconvert_exporter": "python",
   "pygments_lexer": "ipython3",
   "version": "3.5.3"
  }
 },
 "nbformat": 4,
 "nbformat_minor": 4
}
